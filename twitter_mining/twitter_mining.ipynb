def tweetsearch():
    covid_keywords = '#COVID19 OR #COVID19Africa'  #hashtag based search
    tweets_file = 'data/ethiopia_covid19_23june2020.json'
    #get data on keywords
    ts = tweetsearch()
    df = ts.get_tweets(covid_keywords, csvfile=tweets_file) 
